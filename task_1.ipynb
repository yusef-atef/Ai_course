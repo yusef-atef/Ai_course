{
  "nbformat": 4,
  "nbformat_minor": 0,
  "metadata": {
    "colab": {
      "provenance": [],
      "include_colab_link": true
    },
    "kernelspec": {
      "name": "python3",
      "display_name": "Python 3"
    },
    "language_info": {
      "name": "python"
    }
  },
  "cells": [
    {
      "cell_type": "markdown",
      "metadata": {
        "id": "view-in-github",
        "colab_type": "text"
      },
      "source": [
        "<a href=\"https://colab.research.google.com/github/yusef-atef/Ai_course/blob/main/task_1.ipynb\" target=\"_parent\"><img src=\"https://colab.research.google.com/assets/colab-badge.svg\" alt=\"Open In Colab\"/></a>"
      ]
    },
    {
      "cell_type": "code",
      "execution_count": null,
      "metadata": {
        "colab": {
          "base_uri": "https://localhost:8080/"
        },
        "id": "uHGpLbEhqqlF",
        "outputId": "95a8b4bf-13ee-46ff-b083-b7dd1aa2d9bc"
      },
      "outputs": [
        {
          "output_type": "stream",
          "name": "stdout",
          "text": [
            "Hello World Hussein Waleed\n"
          ]
        }
      ],
      "source": [
        "print('Hello World Hussein Waleed')"
      ]
    },
    {
      "cell_type": "code",
      "source": [
        "print(\"Hello World From Yusef Atef Ahmed\")"
      ],
      "metadata": {
        "id": "jcQX_RWDrRc7"
      },
      "execution_count": null,
      "outputs": []
    }
  ]
}