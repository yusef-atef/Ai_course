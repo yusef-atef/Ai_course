{
  "cells": [
    {
      "cell_type": "markdown",
      "metadata": {
        "id": "view-in-github",
        "colab_type": "text"
      },
      "source": [
        "<a href=\"https://colab.research.google.com/github/yusef-atef/Ai_course/blob/main/Pandas%2BPractice.ipynb\" target=\"_parent\"><img src=\"https://colab.research.google.com/assets/colab-badge.svg\" alt=\"Open In Colab\"/></a>"
      ]
    },
    {
      "cell_type": "markdown",
      "metadata": {
        "collapsed": true,
        "jupyter": {
          "outputs_hidden": true
        },
        "id": "nGu-q9EiMspf"
      },
      "source": [
        "# Part 1"
      ]
    },
    {
      "cell_type": "code",
      "source": [
        "from google.colab import drive\n",
        "drive.mount('/content/drive')"
      ],
      "metadata": {
        "colab": {
          "base_uri": "https://localhost:8080/"
        },
        "id": "UoVV1_mNNDYD",
        "outputId": "e24460ff-0da6-45e4-c6c9-b62f53860c6c"
      },
      "execution_count": 9,
      "outputs": [
        {
          "output_type": "stream",
          "name": "stdout",
          "text": [
            "Drive already mounted at /content/drive; to attempt to forcibly remount, call drive.mount(\"/content/drive\", force_remount=True).\n"
          ]
        }
      ]
    },
    {
      "cell_type": "markdown",
      "metadata": {
        "id": "zL1MBiSCMspi"
      },
      "source": [
        "The file \"Purchase_Data.csv\" contains purchase data at a Chinese supermarket for various products.  Read this csv into a dataframe called df_data and use the head() method to check that you have read in the data correctly. Make sure you import pandas."
      ]
    },
    {
      "cell_type": "code",
      "execution_count": 11,
      "metadata": {
        "jupyter": {
          "outputs_hidden": false
        },
        "colab": {
          "base_uri": "https://localhost:8080/"
        },
        "id": "F54-PAHOMspj",
        "outputId": "cbf73ff0-b4e5-487c-da52-9896aeeb01a0"
      },
      "outputs": [
        {
          "output_type": "stream",
          "name": "stdout",
          "text": [
            "CSV file loaded successfully! Here are the first few rows:\n",
            "   invoice_number   invoice_time store_id  product_id  category_id  num_item  \\\n",
            "0    2.020000e+11  7/15/15 10:45     G816     7000300       210101       1.0   \n",
            "1    2.020000e+11  7/15/15 12:16     G816     7070884        70203       1.0   \n",
            "2    2.020000e+11  7/15/15 12:16     G816     7070884        70203       1.0   \n",
            "3    2.020000e+11  7/15/15 12:16     G816     7070891        70401       1.0   \n",
            "4    2.020000e+11  7/15/15 12:16     G816     7090363        70401       1.0   \n",
            "\n",
            "   price  \n",
            "0    2.0  \n",
            "1    2.0  \n",
            "2    2.0  \n",
            "3    6.0  \n",
            "4    6.0  \n"
          ]
        }
      ],
      "source": [
        "#Write your code here\n",
        "import pandas as pd\n",
        "import numpy as np\n",
        "\n",
        "file_path = '/content/drive/MyDrive/Pandas Practice assignment/Data/Purchase_Data.csv'\n",
        "df = pd.read_csv(file_path)\n",
        "\n",
        "\n",
        "print(\"CSV file loaded successfully! Here are the first few rows:\")\n",
        "print(df.head())"
      ]
    },
    {
      "cell_type": "markdown",
      "metadata": {
        "id": "pgwmE2iCMspk"
      },
      "source": [
        "\n",
        "\n",
        "```\n",
        "# This is formatted as code\n",
        "\n",
        "> Add blockquote\n",
        "\n",
        "\n",
        "```\n",
        "\n",
        "Use the dtypes attribute to view how each column is stored"
      ]
    },
    {
      "cell_type": "code",
      "execution_count": 12,
      "metadata": {
        "jupyter": {
          "outputs_hidden": false
        },
        "colab": {
          "base_uri": "https://localhost:8080/"
        },
        "id": "8MXkVJXXMspk",
        "outputId": "b310a5a5-80f6-4f06-9342-65e0a8da2681"
      },
      "outputs": [
        {
          "output_type": "stream",
          "name": "stdout",
          "text": [
            "\n",
            "Data types of each column:\n",
            "invoice_number    float64\n",
            "invoice_time       object\n",
            "store_id           object\n",
            "product_id          int64\n",
            "category_id         int64\n",
            "num_item          float64\n",
            "price             float64\n",
            "dtype: object\n"
          ]
        }
      ],
      "source": [
        "#Write your code here\n",
        "print(\"\\nData types of each column:\")\n",
        "print(df.dtypes)"
      ]
    },
    {
      "cell_type": "markdown",
      "metadata": {
        "id": "sRxE01ACMspl"
      },
      "source": [
        "Slice the first two columns using .loc and store the result in a variable called result_1."
      ]
    },
    {
      "cell_type": "code",
      "execution_count": 14,
      "metadata": {
        "jupyter": {
          "outputs_hidden": false
        },
        "colab": {
          "base_uri": "https://localhost:8080/"
        },
        "id": "zLBqeYCzMspl",
        "outputId": "00e13dd5-737a-4d8c-82b0-cd3b56c49c8b"
      },
      "outputs": [
        {
          "output_type": "stream",
          "name": "stdout",
          "text": [
            "   invoice_number   invoice_time\n",
            "0    2.020000e+11  7/15/15 10:45\n",
            "1    2.020000e+11  7/15/15 12:16\n",
            "2    2.020000e+11  7/15/15 12:16\n",
            "3    2.020000e+11  7/15/15 12:16\n",
            "4    2.020000e+11  7/15/15 12:16\n"
          ]
        }
      ],
      "source": [
        "#Write you code here\n",
        "result_1 = df.loc[:, df.columns[:2]]\n",
        "print(result_1.head())"
      ]
    },
    {
      "cell_type": "markdown",
      "metadata": {
        "id": "T1NZ6FU0Mspl"
      },
      "source": [
        "Slice the first two rows using .loc and store the result in a variable called result_2."
      ]
    },
    {
      "cell_type": "code",
      "execution_count": 15,
      "metadata": {
        "jupyter": {
          "outputs_hidden": false
        },
        "colab": {
          "base_uri": "https://localhost:8080/"
        },
        "id": "JZ0zYvUJMspm",
        "outputId": "933c3c80-feaa-44dc-fdf8-748ff6fb8536"
      },
      "outputs": [
        {
          "output_type": "stream",
          "name": "stdout",
          "text": [
            "   invoice_number   invoice_time store_id  product_id  category_id  num_item  \\\n",
            "0    2.020000e+11  7/15/15 10:45     G816     7000300       210101       1.0   \n",
            "1    2.020000e+11  7/15/15 12:16     G816     7070884        70203       1.0   \n",
            "\n",
            "   price  \n",
            "0    2.0  \n",
            "1    2.0  \n"
          ]
        }
      ],
      "source": [
        "#Write you code here\n",
        "result_2 = df.loc[:1, :]\n",
        "print(result_2)"
      ]
    },
    {
      "cell_type": "markdown",
      "metadata": {
        "id": "8p_YVSO0Mspm"
      },
      "source": [
        "Slice the first four rows and the first five columns and store the result in a variable called result_3."
      ]
    },
    {
      "cell_type": "code",
      "execution_count": 16,
      "metadata": {
        "jupyter": {
          "outputs_hidden": false
        },
        "colab": {
          "base_uri": "https://localhost:8080/"
        },
        "id": "VJHA83eFMspm",
        "outputId": "2c73bd86-2d2a-460e-ca1f-18e99f9204b2"
      },
      "outputs": [
        {
          "output_type": "stream",
          "name": "stdout",
          "text": [
            "   invoice_number   invoice_time store_id  product_id  category_id\n",
            "0    2.020000e+11  7/15/15 10:45     G816     7000300       210101\n",
            "1    2.020000e+11  7/15/15 12:16     G816     7070884        70203\n",
            "2    2.020000e+11  7/15/15 12:16     G816     7070884        70203\n",
            "3    2.020000e+11  7/15/15 12:16     G816     7070891        70401\n"
          ]
        }
      ],
      "source": [
        "#Write your code here\n",
        "result_3 = df.loc[:3, df.columns[:5]]\n",
        "print(result_3)"
      ]
    },
    {
      "cell_type": "markdown",
      "metadata": {
        "id": "Ys3XgY7oMspm"
      },
      "source": [
        "Slice rows 0,4,6 and columns invoice time and price and store the result in variable called result_4."
      ]
    },
    {
      "cell_type": "code",
      "execution_count": 17,
      "metadata": {
        "jupyter": {
          "outputs_hidden": false
        },
        "colab": {
          "base_uri": "https://localhost:8080/"
        },
        "id": "CbxavgdeMspn",
        "outputId": "4b4cd424-d2d7-4766-dc3e-0fc46ef10934"
      },
      "outputs": [
        {
          "output_type": "stream",
          "name": "stdout",
          "text": [
            "    invoice_time  price\n",
            "0  7/15/15 10:45    2.0\n",
            "4  7/15/15 12:16    6.0\n",
            "6  7/15/15 15:28    2.0\n"
          ]
        }
      ],
      "source": [
        "#Write your code here\n",
        "result_4 = df.loc[[0, 4, 6], [\"invoice_time\", \"price\"]]\n",
        "print(result_4)"
      ]
    },
    {
      "cell_type": "markdown",
      "metadata": {
        "id": "Vg6E8gWfMspn"
      },
      "source": [
        "Store the number rows in a variable called num_rows."
      ]
    },
    {
      "cell_type": "code",
      "execution_count": 18,
      "metadata": {
        "jupyter": {
          "outputs_hidden": false
        },
        "colab": {
          "base_uri": "https://localhost:8080/"
        },
        "id": "Ih-9fW_bMspn",
        "outputId": "cb123f1a-c6e4-4e1e-951f-d1d1982155a1"
      },
      "outputs": [
        {
          "output_type": "stream",
          "name": "stdout",
          "text": [
            "5382\n"
          ]
        }
      ],
      "source": [
        "num_rows = df.shape[0]\n",
        "print(num_rows)"
      ]
    },
    {
      "cell_type": "markdown",
      "metadata": {
        "id": "pqj8y5C2Mspn"
      },
      "source": [
        "Print out the last row of the data to dataframe. **Hint:** use the variable num_rows from the previous exercise."
      ]
    },
    {
      "cell_type": "code",
      "execution_count": 19,
      "metadata": {
        "jupyter": {
          "outputs_hidden": false
        },
        "colab": {
          "base_uri": "https://localhost:8080/"
        },
        "id": "SJ0UoMaCMspn",
        "outputId": "a13db119-2eed-4e10-ff6c-d4988d7e1ad4"
      },
      "outputs": [
        {
          "output_type": "stream",
          "name": "stdout",
          "text": [
            "invoice_number    202000000000.0\n",
            "invoice_time        9/5/15 23:38\n",
            "store_id                    G619\n",
            "product_id              23030206\n",
            "category_id               210101\n",
            "num_item                     1.0\n",
            "price                        2.0\n",
            "Name: 5381, dtype: object\n"
          ]
        }
      ],
      "source": [
        "#Write your code here\n",
        "last_row = df.loc[num_rows - 1, :]\n",
        "print(last_row)"
      ]
    },
    {
      "cell_type": "markdown",
      "metadata": {
        "id": "69-00RgPMspn"
      },
      "source": [
        "# Part 2"
      ]
    },
    {
      "cell_type": "markdown",
      "metadata": {
        "id": "BSVj8_VjMspn"
      },
      "source": [
        "Compute the average and max price charged.  Store the results in variables called avg_price and max_price"
      ]
    },
    {
      "cell_type": "code",
      "execution_count": 20,
      "metadata": {
        "jupyter": {
          "outputs_hidden": false
        },
        "colab": {
          "base_uri": "https://localhost:8080/"
        },
        "id": "rrHP3OFOMspn",
        "outputId": "93fbff59-a7ff-4464-8c17-2ae4624747fb"
      },
      "outputs": [
        {
          "output_type": "stream",
          "name": "stdout",
          "text": [
            "Average Price: 3.1920522110741363\n",
            "Max Price: 6.01\n"
          ]
        }
      ],
      "source": [
        "#Write your code here\n",
        "avg_price = df[\"price\"].mean()\n",
        "max_price = df[\"price\"].max()\n",
        "print(\"Average Price:\", avg_price)\n",
        "print(\"Max Price:\", max_price)"
      ]
    },
    {
      "cell_type": "markdown",
      "metadata": {
        "id": "wHBRlesUMspn"
      },
      "source": [
        "Compute the average price and average number of items purchased with only a single call to the mean() method. Store these averages in avg_price and avg_num_items."
      ]
    },
    {
      "cell_type": "code",
      "execution_count": 21,
      "metadata": {
        "jupyter": {
          "outputs_hidden": false
        },
        "colab": {
          "base_uri": "https://localhost:8080/"
        },
        "id": "KE85R_QTMspo",
        "outputId": "df94b798-8681-4d7a-86c9-6b9a070bf5e3"
      },
      "outputs": [
        {
          "output_type": "stream",
          "name": "stdout",
          "text": [
            "Average Price: 3.1920522110741363\n",
            "Average Number of Items: 1.2983091787439613\n"
          ]
        }
      ],
      "source": [
        "#Write you code here\n",
        "avg_values = df[[\"price\", \"num_item\"]].mean()\n",
        "avg_price = avg_values[\"price\"]\n",
        "avg_num_items = avg_values[\"num_item\"]\n",
        "print(\"Average Price:\", avg_price)\n",
        "print(\"Average Number of Items:\", avg_num_items)"
      ]
    },
    {
      "cell_type": "markdown",
      "metadata": {
        "id": "3ghsuDLBMspo"
      },
      "source": [
        "Create a column called \"total\", which is the product of the price and num_item columns."
      ]
    },
    {
      "cell_type": "code",
      "execution_count": 22,
      "metadata": {
        "jupyter": {
          "outputs_hidden": false
        },
        "colab": {
          "base_uri": "https://localhost:8080/"
        },
        "id": "7lLDwLK3Mspo",
        "outputId": "1d92f071-a138-4001-8722-aa107576f2e9"
      },
      "outputs": [
        {
          "output_type": "stream",
          "name": "stdout",
          "text": [
            "   invoice_number   invoice_time store_id  product_id  category_id  num_item  \\\n",
            "0    2.020000e+11  7/15/15 10:45     G816     7000300       210101       1.0   \n",
            "1    2.020000e+11  7/15/15 12:16     G816     7070884        70203       1.0   \n",
            "2    2.020000e+11  7/15/15 12:16     G816     7070884        70203       1.0   \n",
            "3    2.020000e+11  7/15/15 12:16     G816     7070891        70401       1.0   \n",
            "4    2.020000e+11  7/15/15 12:16     G816     7090363        70401       1.0   \n",
            "\n",
            "   price  total  \n",
            "0    2.0    2.0  \n",
            "1    2.0    2.0  \n",
            "2    2.0    2.0  \n",
            "3    6.0    6.0  \n",
            "4    6.0    6.0  \n"
          ]
        }
      ],
      "source": [
        "#Write your code here\n",
        "df[\"total\"] = df[\"price\"] * df[\"num_item\"]\n",
        "print(df.head())"
      ]
    },
    {
      "cell_type": "markdown",
      "metadata": {
        "id": "YsDci41sMspo"
      },
      "source": [
        "What is the avgerage price of the three most expensive purchases?"
      ]
    },
    {
      "cell_type": "code",
      "execution_count": 23,
      "metadata": {
        "jupyter": {
          "outputs_hidden": false
        },
        "colab": {
          "base_uri": "https://localhost:8080/"
        },
        "id": "SvdKvDuvMspo",
        "outputId": "f49aa003-eb8b-458c-afcf-e95a96819af8"
      },
      "outputs": [
        {
          "output_type": "stream",
          "name": "stdout",
          "text": [
            "Average price of the three most expensive purchases: 6.003333333333333\n"
          ]
        }
      ],
      "source": [
        "#Write your code here\n",
        "avg_top3_price = df[\"price\"].nlargest(3).mean()\n",
        "print(\"Average price of the three most expensive purchases:\", avg_top3_price)"
      ]
    },
    {
      "cell_type": "markdown",
      "metadata": {
        "id": "1PpvmLw0Mspo"
      },
      "source": [
        "*How* many different products are there?"
      ]
    },
    {
      "cell_type": "code",
      "execution_count": 24,
      "metadata": {
        "jupyter": {
          "outputs_hidden": false
        },
        "colab": {
          "base_uri": "https://localhost:8080/"
        },
        "id": "Aj3LEVCFMspo",
        "outputId": "617ae60d-9647-488d-f763-441aa7763fa3"
      },
      "outputs": [
        {
          "output_type": "stream",
          "name": "stdout",
          "text": [
            "Number of different products: 53\n"
          ]
        }
      ],
      "source": [
        "#Write your code here\n",
        "num_products = df[\"product_id\"].nunique()\n",
        "print(\"Number of different products:\", num_products)"
      ]
    },
    {
      "cell_type": "markdown",
      "metadata": {
        "id": "dLWg5dy7Mspo"
      },
      "source": [
        "Find the difference between the mean and median of the column total.  Use the describe() method and then index the dataframe it returns."
      ]
    },
    {
      "cell_type": "code",
      "execution_count": 25,
      "metadata": {
        "jupyter": {
          "outputs_hidden": false
        },
        "colab": {
          "base_uri": "https://localhost:8080/"
        },
        "id": "Ei_KYhw4Mspo",
        "outputId": "d9b8047f-a12f-4bc5-a93a-75f52efd42d9"
      },
      "outputs": [
        {
          "output_type": "stream",
          "name": "stdout",
          "text": [
            "Difference between mean and median of 'total': 0.9318078781127839\n"
          ]
        }
      ],
      "source": [
        "#Write your code here\n",
        "total_stats = df[\"total\"].describe()\n",
        "diff_mean_median = total_stats[\"mean\"] - total_stats[\"50%\"]\n",
        "print(\"Difference between mean and median of 'total':\", diff_mean_median)"
      ]
    },
    {
      "cell_type": "markdown",
      "metadata": {
        "id": "sZdJjttTMspo"
      },
      "source": [
        "Use the drop() method to delete the column total from the dataframe df_data."
      ]
    },
    {
      "cell_type": "code",
      "execution_count": 26,
      "metadata": {
        "jupyter": {
          "outputs_hidden": false
        },
        "colab": {
          "base_uri": "https://localhost:8080/"
        },
        "id": "n7K8ljOzMspp",
        "outputId": "e92f322b-d1ea-4092-9e24-36a382aecb66"
      },
      "outputs": [
        {
          "output_type": "stream",
          "name": "stdout",
          "text": [
            "   invoice_number   invoice_time store_id  product_id  category_id  num_item  \\\n",
            "0    2.020000e+11  7/15/15 10:45     G816     7000300       210101       1.0   \n",
            "1    2.020000e+11  7/15/15 12:16     G816     7070884        70203       1.0   \n",
            "2    2.020000e+11  7/15/15 12:16     G816     7070884        70203       1.0   \n",
            "3    2.020000e+11  7/15/15 12:16     G816     7070891        70401       1.0   \n",
            "4    2.020000e+11  7/15/15 12:16     G816     7090363        70401       1.0   \n",
            "\n",
            "   price  \n",
            "0    2.0  \n",
            "1    2.0  \n",
            "2    2.0  \n",
            "3    6.0  \n",
            "4    6.0  \n"
          ]
        }
      ],
      "source": [
        "#Write your code here\n",
        "df_data = df.drop(\"total\", axis=1)\n",
        "print(df_data.head())"
      ]
    },
    {
      "cell_type": "code",
      "execution_count": null,
      "metadata": {
        "jupyter": {
          "outputs_hidden": false
        },
        "id": "lSuiM6PPMspp"
      },
      "outputs": [],
      "source": [
        "#Write your code here\n"
      ]
    },
    {
      "cell_type": "markdown",
      "metadata": {
        "id": "7Go8IU4_Mspp"
      },
      "source": [
        "First, covert the column invoice time to a datetime column. Print out the new column types to make sure this was done correctly"
      ]
    },
    {
      "cell_type": "code",
      "execution_count": 27,
      "metadata": {
        "jupyter": {
          "outputs_hidden": false
        },
        "colab": {
          "base_uri": "https://localhost:8080/"
        },
        "id": "z5IHqW6LMspp",
        "outputId": "0b5233ba-4bd6-4d3d-9a80-7f6298303697"
      },
      "outputs": [
        {
          "output_type": "stream",
          "name": "stdout",
          "text": [
            "invoice_number           float64\n",
            "invoice_time      datetime64[ns]\n",
            "store_id                  object\n",
            "product_id                 int64\n",
            "category_id                int64\n",
            "num_item                 float64\n",
            "price                    float64\n",
            "total                    float64\n",
            "dtype: object\n"
          ]
        },
        {
          "output_type": "stream",
          "name": "stderr",
          "text": [
            "/tmp/ipython-input-496183982.py:2: UserWarning: Could not infer format, so each element will be parsed individually, falling back to `dateutil`. To ensure parsing is consistent and as-expected, please specify a format.\n",
            "  df[\"invoice_time\"] = pd.to_datetime(df[\"invoice_time\"])\n"
          ]
        }
      ],
      "source": [
        "#Write your code here\n",
        "df[\"invoice_time\"] = pd.to_datetime(df[\"invoice_time\"])\n",
        "print(df.dtypes)"
      ]
    },
    {
      "cell_type": "markdown",
      "metadata": {
        "id": "pu1JJ-IfMspp"
      },
      "source": [
        "Next, let's create columns called \"DOW\" and \"Month\", which store the corresponding weekday and month of the invoice respectively.  Print the head of the dataframe to make sure this was done correctly."
      ]
    },
    {
      "cell_type": "code",
      "execution_count": 28,
      "metadata": {
        "jupyter": {
          "outputs_hidden": false
        },
        "colab": {
          "base_uri": "https://localhost:8080/"
        },
        "id": "8yGq6wxTMspp",
        "outputId": "6b94af8f-53d2-4c52-dff9-4a01467a5115"
      },
      "outputs": [
        {
          "output_type": "stream",
          "name": "stdout",
          "text": [
            "   invoice_number        invoice_time store_id  product_id  category_id  \\\n",
            "0    2.020000e+11 2015-07-15 10:45:00     G816     7000300       210101   \n",
            "1    2.020000e+11 2015-07-15 12:16:00     G816     7070884        70203   \n",
            "2    2.020000e+11 2015-07-15 12:16:00     G816     7070884        70203   \n",
            "3    2.020000e+11 2015-07-15 12:16:00     G816     7070891        70401   \n",
            "4    2.020000e+11 2015-07-15 12:16:00     G816     7090363        70401   \n",
            "\n",
            "   num_item  price  total        DOW Month  \n",
            "0       1.0    2.0    2.0  Wednesday  July  \n",
            "1       1.0    2.0    2.0  Wednesday  July  \n",
            "2       1.0    2.0    2.0  Wednesday  July  \n",
            "3       1.0    6.0    6.0  Wednesday  July  \n",
            "4       1.0    6.0    6.0  Wednesday  July  \n"
          ]
        }
      ],
      "source": [
        "#Write your code here\n",
        "df[\"DOW\"] = df[\"invoice_time\"].dt.day_name()\n",
        "df[\"Month\"] = df[\"invoice_time\"].dt.month_name()\n",
        "print(df.head())"
      ]
    },
    {
      "cell_type": "markdown",
      "metadata": {
        "id": "yRBbyMM2Mspp"
      },
      "source": [
        "Create a variable called num_purchases_wed, which stores the number of purchases made on Wednesday?  You should use value_counts and then index the series it return."
      ]
    },
    {
      "cell_type": "code",
      "execution_count": 29,
      "metadata": {
        "jupyter": {
          "outputs_hidden": false
        },
        "colab": {
          "base_uri": "https://localhost:8080/"
        },
        "id": "xxgcXzW-Mspu",
        "outputId": "f2d33ea8-7976-42a7-c0f0-41212da39f96"
      },
      "outputs": [
        {
          "output_type": "stream",
          "name": "stdout",
          "text": [
            "Number of purchases on Wednesday: 959\n"
          ]
        }
      ],
      "source": [
        "#Write your code here\n",
        "num_purchases_wed = df[\"DOW\"].value_counts()[\"Wednesday\"]\n",
        "print(\"Number of purchases on Wednesday:\", num_purchases_wed)"
      ]
    },
    {
      "cell_type": "markdown",
      "metadata": {
        "id": "YlR7Ke6-Mspu"
      },
      "source": [
        "# Part 3"
      ]
    },
    {
      "cell_type": "markdown",
      "metadata": {
        "id": "7qfTX2CzMspu"
      },
      "source": [
        "In this set of practice exercises, we will be working with a demographic data regarding the passengers aboard the Titanic.  Read in the data frame and use the head() method to check that it was read in correctly."
      ]
    },
    {
      "cell_type": "code",
      "execution_count": 30,
      "metadata": {
        "jupyter": {
          "outputs_hidden": false
        },
        "colab": {
          "base_uri": "https://localhost:8080/"
        },
        "id": "AyWJaGmcMspv",
        "outputId": "30d8efc6-e58f-479c-9200-551b5baa15a4"
      },
      "outputs": [
        {
          "output_type": "stream",
          "name": "stdout",
          "text": [
            "CSV file loaded successfully! Here are the first few rows:\n",
            "   PassengerId  Pclass                                          Name     Sex  \\\n",
            "0          892       3                              Kelly, Mr. James    male   \n",
            "1          893       3              Wilkes, Mrs. James (Ellen Needs)  female   \n",
            "2          894       2                     Myles, Mr. Thomas Francis    male   \n",
            "3          895       3                              Wirz, Mr. Albert    male   \n",
            "4          896       3  Hirvonen, Mrs. Alexander (Helga E Lindqvist)  female   \n",
            "\n",
            "    Age  SibSp  Parch   Ticket     Fare Cabin Embarked  \n",
            "0  34.5      0      0   330911   7.8292   NaN        Q  \n",
            "1  47.0      1      0   363272   7.0000   NaN        S  \n",
            "2  62.0      0      0   240276   9.6875   NaN        Q  \n",
            "3  27.0      0      0   315154   8.6625   NaN        S  \n",
            "4  22.0      1      1  3101298  12.2875   NaN        S  \n"
          ]
        }
      ],
      "source": [
        "#Write your code here\n",
        "file_path = '/content/drive/MyDrive/Pandas Practice assignment/Data/Titanic.csv'\n",
        "df = pd.read_csv(file_path)\n",
        "print(\"CSV file loaded successfully! Here are the first few rows:\")\n",
        "print(df.head())"
      ]
    },
    {
      "cell_type": "markdown",
      "metadata": {
        "id": "DnIWlgazMspv"
      },
      "source": [
        "Use the rename method to change the column \"Name\" to \"Passenger_Name\" and the column \"Ticket\" to \"Ticket_Num\"."
      ]
    },
    {
      "cell_type": "code",
      "execution_count": 31,
      "metadata": {
        "jupyter": {
          "outputs_hidden": false
        },
        "colab": {
          "base_uri": "https://localhost:8080/"
        },
        "id": "twI6ko29Mspv",
        "outputId": "455aa0e6-d9aa-4240-d975-17b40a8ed564"
      },
      "outputs": [
        {
          "output_type": "stream",
          "name": "stdout",
          "text": [
            "   PassengerId  Pclass                                Passenger_Name     Sex  \\\n",
            "0          892       3                              Kelly, Mr. James    male   \n",
            "1          893       3              Wilkes, Mrs. James (Ellen Needs)  female   \n",
            "2          894       2                     Myles, Mr. Thomas Francis    male   \n",
            "3          895       3                              Wirz, Mr. Albert    male   \n",
            "4          896       3  Hirvonen, Mrs. Alexander (Helga E Lindqvist)  female   \n",
            "\n",
            "    Age  SibSp  Parch Ticket_Num     Fare Cabin Embarked  \n",
            "0  34.5      0      0     330911   7.8292   NaN        Q  \n",
            "1  47.0      1      0     363272   7.0000   NaN        S  \n",
            "2  62.0      0      0     240276   9.6875   NaN        Q  \n",
            "3  27.0      0      0     315154   8.6625   NaN        S  \n",
            "4  22.0      1      1    3101298  12.2875   NaN        S  \n"
          ]
        }
      ],
      "source": [
        "#Write your code here\n",
        "df = df.rename(columns={\"Name\": \"Passenger_Name\", \"Ticket\": \"Ticket_Num\"})\n",
        "print(df.head())"
      ]
    },
    {
      "cell_type": "markdown",
      "metadata": {
        "id": "-btxgyY6Mspv"
      },
      "source": [
        "Change the index of the df_titanic to the column PasengerID."
      ]
    },
    {
      "cell_type": "code",
      "execution_count": 32,
      "metadata": {
        "jupyter": {
          "outputs_hidden": false
        },
        "scrolled": true,
        "colab": {
          "base_uri": "https://localhost:8080/"
        },
        "id": "MxYt5Q_jMspv",
        "outputId": "cc88846f-2038-4761-87fb-2e434fd68f1a"
      },
      "outputs": [
        {
          "output_type": "stream",
          "name": "stdout",
          "text": [
            "             Pclass                                Passenger_Name     Sex  \\\n",
            "PassengerId                                                                 \n",
            "892               3                              Kelly, Mr. James    male   \n",
            "893               3              Wilkes, Mrs. James (Ellen Needs)  female   \n",
            "894               2                     Myles, Mr. Thomas Francis    male   \n",
            "895               3                              Wirz, Mr. Albert    male   \n",
            "896               3  Hirvonen, Mrs. Alexander (Helga E Lindqvist)  female   \n",
            "\n",
            "              Age  SibSp  Parch Ticket_Num     Fare Cabin Embarked  \n",
            "PassengerId                                                         \n",
            "892          34.5      0      0     330911   7.8292   NaN        Q  \n",
            "893          47.0      1      0     363272   7.0000   NaN        S  \n",
            "894          62.0      0      0     240276   9.6875   NaN        Q  \n",
            "895          27.0      0      0     315154   8.6625   NaN        S  \n",
            "896          22.0      1      1    3101298  12.2875   NaN        S  \n"
          ]
        }
      ],
      "source": [
        "#Write your code here\n",
        "df = df.set_index(\"PassengerId\")\n",
        "print(df.head())"
      ]
    },
    {
      "cell_type": "markdown",
      "metadata": {
        "id": "5TNtVIv2Mspv"
      },
      "source": [
        "Select the name of passenger 896"
      ]
    },
    {
      "cell_type": "code",
      "execution_count": 33,
      "metadata": {
        "jupyter": {
          "outputs_hidden": false
        },
        "colab": {
          "base_uri": "https://localhost:8080/"
        },
        "id": "rmX6kiNfMspv",
        "outputId": "bd087689-66f5-4c7c-b8a1-f38d20a7a911"
      },
      "outputs": [
        {
          "output_type": "stream",
          "name": "stdout",
          "text": [
            "Hirvonen, Mrs. Alexander (Helga E Lindqvist)\n"
          ]
        }
      ],
      "source": [
        "#Write your code here\n",
        "passenger_896_name = df.loc[896, \"Passenger_Name\"]\n",
        "print(passenger_896_name)"
      ]
    },
    {
      "cell_type": "markdown",
      "metadata": {
        "id": "2CWaq5XIMspv"
      },
      "source": [
        "Change the index back to row numbers but making sure that we don't lose the PassengerId column."
      ]
    },
    {
      "cell_type": "code",
      "execution_count": 34,
      "metadata": {
        "jupyter": {
          "outputs_hidden": false
        },
        "colab": {
          "base_uri": "https://localhost:8080/"
        },
        "id": "_1Pp4k_pMspv",
        "outputId": "35962a07-aa97-4e4a-9a3a-870f974bb247"
      },
      "outputs": [
        {
          "output_type": "stream",
          "name": "stdout",
          "text": [
            "   PassengerId  Pclass                                Passenger_Name     Sex  \\\n",
            "0          892       3                              Kelly, Mr. James    male   \n",
            "1          893       3              Wilkes, Mrs. James (Ellen Needs)  female   \n",
            "2          894       2                     Myles, Mr. Thomas Francis    male   \n",
            "3          895       3                              Wirz, Mr. Albert    male   \n",
            "4          896       3  Hirvonen, Mrs. Alexander (Helga E Lindqvist)  female   \n",
            "\n",
            "    Age  SibSp  Parch Ticket_Num     Fare Cabin Embarked  \n",
            "0  34.5      0      0     330911   7.8292   NaN        Q  \n",
            "1  47.0      1      0     363272   7.0000   NaN        S  \n",
            "2  62.0      0      0     240276   9.6875   NaN        Q  \n",
            "3  27.0      0      0     315154   8.6625   NaN        S  \n",
            "4  22.0      1      1    3101298  12.2875   NaN        S  \n"
          ]
        }
      ],
      "source": [
        "#Write your code here\n",
        "df = df.reset_index()\n",
        "print(df.head())"
      ]
    },
    {
      "cell_type": "markdown",
      "metadata": {
        "id": "ma_mGxajMspv"
      },
      "source": [
        "How many missing entries are there in the Age column? Use the isnull() method and recall than Booleans are exactly like 1s (True) and 0s (False)."
      ]
    },
    {
      "cell_type": "code",
      "execution_count": 35,
      "metadata": {
        "jupyter": {
          "outputs_hidden": false
        },
        "colab": {
          "base_uri": "https://localhost:8080/"
        },
        "id": "Uzl7pgXYMspw",
        "outputId": "8a651bc9-6041-438a-951d-3acfbc11bcae"
      },
      "outputs": [
        {
          "output_type": "stream",
          "name": "stdout",
          "text": [
            "Number of missing entries in Age column: 86\n"
          ]
        }
      ],
      "source": [
        "#Write you code here\n",
        "missing_age = df[\"Age\"].isnull().sum()\n",
        "print(\"Number of missing entries in Age column:\", missing_age)"
      ]
    },
    {
      "cell_type": "markdown",
      "metadata": {
        "id": "x-DlGEPzMspw"
      },
      "source": [
        "Compute the avg age of passengers ignoring the missing data."
      ]
    },
    {
      "cell_type": "code",
      "execution_count": 36,
      "metadata": {
        "jupyter": {
          "outputs_hidden": false
        },
        "colab": {
          "base_uri": "https://localhost:8080/"
        },
        "id": "7XdAsdiiMspw",
        "outputId": "6da2eff1-653b-4964-9a32-d82bad4a922a"
      },
      "outputs": [
        {
          "output_type": "stream",
          "name": "stdout",
          "text": [
            "Average Age of passengers: 30.272590361445783\n"
          ]
        }
      ],
      "source": [
        "#Write your code here\n",
        "avg_age = df[\"Age\"].mean()\n",
        "print(\"Average Age of passengers:\", avg_age)"
      ]
    },
    {
      "cell_type": "markdown",
      "metadata": {
        "id": "Fz21ytjpMspw"
      },
      "source": [
        "Using the fillna() method replace the missing values in the Age column with the mean."
      ]
    },
    {
      "cell_type": "code",
      "execution_count": 37,
      "metadata": {
        "jupyter": {
          "outputs_hidden": false
        },
        "colab": {
          "base_uri": "https://localhost:8080/"
        },
        "id": "COydyAhOMspw",
        "outputId": "5cb2ae95-072c-4eb0-bb9a-f07c0c56eb0e"
      },
      "outputs": [
        {
          "output_type": "stream",
          "name": "stdout",
          "text": [
            "   PassengerId  Pclass                                Passenger_Name     Sex  \\\n",
            "0          892       3                              Kelly, Mr. James    male   \n",
            "1          893       3              Wilkes, Mrs. James (Ellen Needs)  female   \n",
            "2          894       2                     Myles, Mr. Thomas Francis    male   \n",
            "3          895       3                              Wirz, Mr. Albert    male   \n",
            "4          896       3  Hirvonen, Mrs. Alexander (Helga E Lindqvist)  female   \n",
            "\n",
            "    Age  SibSp  Parch Ticket_Num     Fare Cabin Embarked  \n",
            "0  34.5      0      0     330911   7.8292   NaN        Q  \n",
            "1  47.0      1      0     363272   7.0000   NaN        S  \n",
            "2  62.0      0      0     240276   9.6875   NaN        Q  \n",
            "3  27.0      0      0     315154   8.6625   NaN        S  \n",
            "4  22.0      1      1    3101298  12.2875   NaN        S  \n"
          ]
        }
      ],
      "source": [
        "#Write your code here\n",
        "df[\"Age\"] = df[\"Age\"].fillna(df[\"Age\"].mean())\n",
        "print(df.head())"
      ]
    },
    {
      "cell_type": "markdown",
      "metadata": {
        "id": "n2DlXvF4Mspw"
      },
      "source": [
        "What is the average age of the 5 oldest passengers? The reset_index method will be helpful here."
      ]
    },
    {
      "cell_type": "code",
      "execution_count": 38,
      "metadata": {
        "jupyter": {
          "outputs_hidden": false
        },
        "colab": {
          "base_uri": "https://localhost:8080/"
        },
        "id": "tF1eW1MgMspw",
        "outputId": "26a63284-900b-4004-b5d4-58a043d28bbc"
      },
      "outputs": [
        {
          "output_type": "stream",
          "name": "stdout",
          "text": [
            "Average age of the 5 oldest passengers: 67.0\n"
          ]
        }
      ],
      "source": [
        "#Write your code here\n",
        "avg_age_oldest5 = df.reset_index().nlargest(5, \"Age\")[\"Age\"].mean()\n",
        "print(\"Average age of the 5 oldest passengers:\", avg_age_oldest5)"
      ]
    }
  ],
  "metadata": {
    "kernelspec": {
      "display_name": "Python [conda env:base] *",
      "language": "python",
      "name": "conda-base-py"
    },
    "language_info": {
      "codemirror_mode": {
        "name": "ipython",
        "version": 3
      },
      "file_extension": ".py",
      "mimetype": "text/x-python",
      "name": "python",
      "nbconvert_exporter": "python",
      "pygments_lexer": "ipython3",
      "version": "3.12.7"
    },
    "toc": {
      "nav_menu": {
        "height": "48px",
        "width": "252px"
      },
      "number_sections": true,
      "sideBar": true,
      "skip_h1_title": false,
      "toc_cell": false,
      "toc_position": {},
      "toc_section_display": "block",
      "toc_window_display": false
    },
    "colab": {
      "provenance": [],
      "include_colab_link": true
    }
  },
  "nbformat": 4,
  "nbformat_minor": 0
}