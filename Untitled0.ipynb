{
  "nbformat": 4,
  "nbformat_minor": 0,
  "metadata": {
    "colab": {
      "provenance": [],
      "include_colab_link": true
    },
    "kernelspec": {
      "name": "python3",
      "display_name": "Python 3"
    },
    "language_info": {
      "name": "python"
    }
  },
  "cells": [
    {
      "cell_type": "markdown",
      "metadata": {
        "id": "view-in-github",
        "colab_type": "text"
      },
      "source": [
        "<a href=\"https://colab.research.google.com/github/yusef-atef/Ai_course/blob/main/Untitled0.ipynb\" target=\"_parent\"><img src=\"https://colab.research.google.com/assets/colab-badge.svg\" alt=\"Open In Colab\"/></a>"
      ]
    },
    {
      "cell_type": "code",
      "execution_count": null,
      "metadata": {
        "colab": {
          "base_uri": "https://localhost:8080/"
        },
        "id": "oCjVZJtZI5w9",
        "outputId": "a2570fae-b977-4561-a08d-bb28d78fae28"
      },
      "outputs": [
        {
          "output_type": "stream",
          "name": "stdout",
          "text": [
            "Student Ages: [18, 21, 20, 19, 22, 23, 20, 21, 22, 19]\n",
            "Manual Mean: 20.5\n",
            "NumPy Mean: 20.5\n",
            "\n",
            "Verification successful! Both methods returned the same mean.\n"
          ]
        }
      ],
      "source": [
        "import numpy as np\n",
        "ages = [18, 21, 20, 19, 22, 23, 20, 21, 22, 19]\n",
        "total_sum = sum(ages)\n",
        "number_of_students = len(ages)\n",
        "manual_mean = total_sum / number_of_students\n",
        "numpy_mean = np.mean(ages)\n",
        "print(f\"Student Ages: {ages}\")\n",
        "print(f\"Manual Mean: {manual_mean}\")\n",
        "print(f\"NumPy Mean: {numpy_mean}\")\n",
        "if manual_mean == numpy_mean:\n",
        "    print(\"\\nVerification successful! Both methods returned the same mean.\")\n",
        "else:\n",
        "    print(\"\\nWarning: The means do not match.\")"
      ]
    },
    {
      "cell_type": "code",
      "source": [
        "import random\n",
        "import numpy as np\n",
        "random_list = [random.randint(10, 50) for _ in range(15)]\n",
        "random_list.sort()\n",
        "print(f\"Generated and Sorted List: {random_list}\")\n",
        "n = len(random_list)\n",
        "if n % 2 == 1:\n",
        "    middle_index = n // 2\n",
        "    manual_median = random_list[middle_index]\n",
        "else:\n",
        "    middle_index_1 = n // 2 - 1\n",
        "    middle_index_2 = n // 2\n",
        "    manual_median = (random_list[middle_index_1] + random_list[middle_index_2]) / 2\n",
        "numpy_median = np.median(random_list)\n",
        "print(f\"\\nManual Median: {manual_median}\")\n",
        "print(f\"NumPy Median: {numpy_median}\")\n",
        "if manual_median == numpy_median:\n",
        "    print(\"\\nVerification successful! Both methods returned the same median.\")\n",
        "else:\n",
        "    print(\"\\nWarning: The medians do not match.\")"
      ],
      "metadata": {
        "colab": {
          "base_uri": "https://localhost:8080/"
        },
        "id": "9B0SpZdSJfYT",
        "outputId": "37271cb8-cc3d-4fdf-c819-2702cf2fb522"
      },
      "execution_count": null,
      "outputs": [
        {
          "output_type": "stream",
          "name": "stdout",
          "text": [
            "Generated and Sorted List: [12, 15, 20, 24, 27, 27, 28, 32, 33, 33, 37, 38, 43, 45, 49]\n",
            "\n",
            "Manual Median: 32\n",
            "NumPy Median: 32.0\n",
            "\n",
            "Verification successful! Both methods returned the same median.\n"
          ]
        }
      ]
    },
    {
      "cell_type": "code",
      "source": [
        "import numpy as np\n",
        "ages = [18, 21, 20, 19, 22, 23, 20, 21, 22, 19]\n",
        "print(f\"Student Ages List: {ages}\")\n",
        "manual_min = min(ages)\n",
        "manual_max = max(ages)\n",
        "manual_range = manual_max - manual_min\n",
        "print(\"\\n--- Manual Calculation ---\")\n",
        "print(f\"Minimum Age: {manual_min}\")\n",
        "print(f\"Maximum Age: {manual_max}\")\n",
        "print(f\"Range (Max - Min): {manual_range}\")\n",
        "numpy_min = np.min(ages)\n",
        "numpy_max = np.max(ages)\n",
        "numpy_range = numpy_max - numpy_min\n",
        "print(\"\\n--- NumPy Calculation ---\")\n",
        "print(f\"Minimum Age: {numpy_min}\")\n",
        "print(f\"Maximum Age: {numpy_max}\")\n",
        "print(f\"Range (Max - Min): {numpy_range}\")\n",
        "print(\"\\n--- Verification ---\")\n",
        "if manual_min == numpy_min and manual_max == numpy_max and manual_range == numpy_range:\n",
        "    print(\"Both manual and NumPy calculations for min, max, and range match!\")\n",
        "else:\n",
        "    print(\"There was a mismatch in the calculations.\")"
      ],
      "metadata": {
        "colab": {
          "base_uri": "https://localhost:8080/"
        },
        "id": "qQSMTmBHKe7S",
        "outputId": "0ffedaa4-92c0-470a-f4eb-db532699d3ce"
      },
      "execution_count": null,
      "outputs": [
        {
          "output_type": "stream",
          "name": "stdout",
          "text": [
            "Student Ages List: [18, 21, 20, 19, 22, 23, 20, 21, 22, 19]\n",
            "\n",
            "--- Manual Calculation ---\n",
            "Minimum Age: 18\n",
            "Maximum Age: 23\n",
            "Range (Max - Min): 5\n",
            "\n",
            "--- NumPy Calculation ---\n",
            "Minimum Age: 18\n",
            "Maximum Age: 23\n",
            "Range (Max - Min): 5\n",
            "\n",
            "--- Verification ---\n",
            "Both manual and NumPy calculations for min, max, and range match!\n"
          ]
        }
      ]
    },
    {
      "cell_type": "code",
      "source": [
        "import numpy as np\n",
        "data = [5, 7, 3, 7, 9, 10, 15, 7]\n",
        "print(f\"Dataset: {data}\")\n",
        "np_data = np.array(data)\n",
        "manual_mean = sum(data) / len(data)\n",
        "print(f\"\\nManual Calculation: Mean = {manual_mean}\")\n",
        "squared_differences = [(x - manual_mean)**2 for x in data]\n",
        "print(f\"Squared differences from mean: {squared_differences}\")\n",
        "manual_variance = sum(squared_differences) / len(data)\n",
        "manual_std_dev = np.sqrt(manual_variance)\n",
        "numpy_variance = np.var(np_data, ddof=0)\n",
        "numpy_std_dev = np.std(np_data, ddof=0)\n",
        "print(\"\\n--- Variance and Standard Deviation ---\")\n",
        "print(f\"Manual Variance: {manual_variance:.2f}\")\n",
        "print(f\"NumPy Variance:  {numpy_variance:.2f}\")\n",
        "print(f\"Manual Standard Deviation: {manual_std_dev:.2f}\")\n",
        "print(f\"NumPy Standard Deviation:  {numpy_std_dev:.2f}\")\n",
        "q1 = np.percentile(np_data, 25)\n",
        "q2 = np.percentile(np_data, 50)\n",
        "q3 = np.percentile(np_data, 75)\n",
        "iqr = q3 - q1\n",
        "print(\"\\n--- Quartiles and IQR ---\")\n",
        "print(f\"25th Percentile (Q1): {q1}\")\n",
        "print(f\"50th Percentile (Median): {q2}\")\n",
        "print(f\"75th Percentile (Q3): {q3}\")\n",
        "print(f\"Interquartile Range (IQR = Q3 - Q1): {iqr}\")\n"
      ],
      "metadata": {
        "colab": {
          "base_uri": "https://localhost:8080/"
        },
        "id": "c__xh2pgK06N",
        "outputId": "20116c84-5668-455e-f46d-86eef90ad973"
      },
      "execution_count": null,
      "outputs": [
        {
          "output_type": "stream",
          "name": "stdout",
          "text": [
            "Dataset: [5, 7, 3, 7, 9, 10, 15, 7]\n",
            "\n",
            "Manual Calculation: Mean = 7.875\n",
            "Squared differences from mean: [8.265625, 0.765625, 23.765625, 0.765625, 1.265625, 4.515625, 50.765625, 0.765625]\n",
            "\n",
            "--- Variance and Standard Deviation ---\n",
            "Manual Variance: 11.36\n",
            "NumPy Variance:  11.36\n",
            "Manual Standard Deviation: 3.37\n",
            "NumPy Standard Deviation:  3.37\n",
            "\n",
            "--- Quartiles and IQR ---\n",
            "25th Percentile (Q1): 6.5\n",
            "50th Percentile (Median): 7.0\n",
            "75th Percentile (Q3): 9.25\n",
            "Interquartile Range (IQR = Q3 - Q1): 2.75\n"
          ]
        }
      ]
    },
    {
      "cell_type": "code",
      "source": [
        "import numpy as np\n",
        "def calculate_z_scores_manually(data_list):\n",
        "    if not data_list:\n",
        "        return []\n",
        "    data_mean = sum(data_list) / len(data_list)\n",
        "    squared_differences = [(x - data_mean) ** 2 for x in data_list]\n",
        "    variance = sum(squared_differences) / len(data_list)\n",
        "    standard_deviation = np.sqrt(variance)\n",
        "    if standard_deviation == 0:\n",
        "        return [0] * len(data_list)\n",
        "    z_scores = [(x - data_mean) / standard_deviation for x in data_list]\n",
        "    return z_scores\n",
        "ages = [18, 21, 20, 19, 22, 23, 20, 21, 22, 19]\n",
        "z_scores_list = calculate_z_scores_manually(ages)\n",
        "print(f\"Original Data: {ages}\")\n",
        "print(\"Z-Scores:\")\n",
        "for i, z in enumerate(z_scores_list):\n",
        "    print(f\"  Age {ages[i]}: {z:.4f}\")\n",
        "np_mean = np.mean(ages)\n",
        "np_std_dev = np.std(ages, ddof=0)\n",
        "z_scores_numpy = (ages - np_mean) / np_std_dev\n",
        "print(\"\\nNumPy Verification (rounded to 4 decimal places):\")\n",
        "print(z_scores_numpy.round(4))\n",
        "\n"
      ],
      "metadata": {
        "colab": {
          "base_uri": "https://localhost:8080/"
        },
        "id": "xN3em-XFLLlU",
        "outputId": "2e1afcb2-7830-4390-f7e6-aaf3eb4c302a"
      },
      "execution_count": null,
      "outputs": [
        {
          "output_type": "stream",
          "name": "stdout",
          "text": [
            "Original Data: [18, 21, 20, 19, 22, 23, 20, 21, 22, 19]\n",
            "Z-Scores:\n",
            "  Age 18: -1.6667\n",
            "  Age 21: 0.3333\n",
            "  Age 20: -0.3333\n",
            "  Age 19: -1.0000\n",
            "  Age 22: 1.0000\n",
            "  Age 23: 1.6667\n",
            "  Age 20: -0.3333\n",
            "  Age 21: 0.3333\n",
            "  Age 22: 1.0000\n",
            "  Age 19: -1.0000\n",
            "\n",
            "NumPy Verification (rounded to 4 decimal places):\n",
            "[-1.6667  0.3333 -0.3333 -1.      1.      1.6667 -0.3333  0.3333  1.\n",
            " -1.    ]\n"
          ]
        }
      ]
    },
    {
      "cell_type": "code",
      "source": [
        "import random\n",
        "import numpy as np\n",
        "data = [random.randint(1, 100) for _ in range(20)]\n",
        "window_size = 3\n",
        "print(f\"Original Data List: {data}\")\n",
        "print(\"-\" * 50)\n",
        "manual_moving_average = []\n",
        "for i in range(len(data) - window_size + 1):\n",
        "    window = data[i:i + window_size]\n",
        "    average = sum(window) / window_size\n",
        "    manual_moving_average.append(average)\n",
        "\n",
        "print(f\"Manual Moving Average (Window Size {window_size}):\")\n",
        "print([round(val, 2) for val in manual_moving_average])\n",
        "print(\"-\" * 50)\n",
        "window = np.ones(window_size)\n",
        "numpy_moving_average = np.convolve(data, window, mode='valid') / window_size\n",
        "print(f\"NumPy Moving Average (Window Size {window_size}):\")\n",
        "print([round(val, 2) for val in numpy_moving_average])\n",
        "print(\"-\" * 50)\n",
        "numpy_moving_average_list = list(numpy_moving_average)\n",
        "is_equal = np.allclose(manual_moving_average, numpy_moving_average_list)\n",
        "print(\"Verification Check:\")\n",
        "if is_equal:\n",
        "    print(\"The results from both methods are approximately equal.\")\n",
        "else:\n",
        "    print(\"The results from the two methods do not match.\")"
      ],
      "metadata": {
        "colab": {
          "base_uri": "https://localhost:8080/"
        },
        "id": "AeY4bZf_LsgY",
        "outputId": "fe7a14e3-d683-47e8-8143-94bdd993af67"
      },
      "execution_count": null,
      "outputs": [
        {
          "output_type": "stream",
          "name": "stdout",
          "text": [
            "Original Data List: [25, 7, 3, 44, 29, 76, 58, 70, 95, 56, 68, 30, 3, 6, 29, 56, 22, 51, 20, 6]\n",
            "--------------------------------------------------\n",
            "Manual Moving Average (Window Size 3):\n",
            "[11.67, 18.0, 25.33, 49.67, 54.33, 68.0, 74.33, 73.67, 73.0, 51.33, 33.67, 13.0, 12.67, 30.33, 35.67, 43.0, 31.0, 25.67]\n",
            "--------------------------------------------------\n",
            "NumPy Moving Average (Window Size 3):\n",
            "[np.float64(11.67), np.float64(18.0), np.float64(25.33), np.float64(49.67), np.float64(54.33), np.float64(68.0), np.float64(74.33), np.float64(73.67), np.float64(73.0), np.float64(51.33), np.float64(33.67), np.float64(13.0), np.float64(12.67), np.float64(30.33), np.float64(35.67), np.float64(43.0), np.float64(31.0), np.float64(25.67)]\n",
            "--------------------------------------------------\n",
            "Verification Check:\n",
            "The results from both methods are approximately equal.\n"
          ]
        }
      ]
    },
    {
      "cell_type": "code",
      "source": [
        "import numpy as np\n",
        "import random\n",
        "data = [random.randint(1, 50) for _ in range(25)]\n",
        "data.append(300)\n",
        "data.append(400)\n",
        "print(f\"Generated Dataset with Potential Outliers:\\n{data}\\n\")\n",
        "q1 = np.percentile(data, 25)\n",
        "q3 = np.percentile(data, 75)\n",
        "print(f\"First Quartile (Q1): {q1}\")\n",
        "print(f\"Third Quartile (Q3): {q3}\")\n",
        "iqr = q3 - q1\n",
        "print(f\"Interquartile Range (IQR): {iqr:.2f}\\n\")\n",
        "lower_bound = q1 - 1.5 * iqr\n",
        "upper_bound = q3 + 1.5 * iqr\n",
        "print(f\"Lower Bound: {lower_bound:.2f}\")\n",
        "print(f\"Upper Bound: {upper_bound:.2f}\\n\")\n",
        "outliers = []\n",
        "for value in data:\n",
        "    if value < lower_bound or value > upper_bound:\n",
        "        outliers.append(value)\n",
        "print(\"Detected Outliers:\")\n",
        "if outliers:\n",
        "    for outlier in outliers:\n",
        "        print(f\"-> {outlier}\")\n",
        "else:\n",
        "    print(\"No outliers were detected.\")\n"
      ],
      "metadata": {
        "colab": {
          "base_uri": "https://localhost:8080/"
        },
        "id": "xEa7wzwNL-kq",
        "outputId": "77effcda-7550-40fa-9c8f-526b0fee44c2"
      },
      "execution_count": null,
      "outputs": [
        {
          "output_type": "stream",
          "name": "stdout",
          "text": [
            "Generated Dataset with Potential Outliers:\n",
            "[43, 31, 18, 41, 31, 9, 20, 27, 23, 32, 33, 3, 1, 8, 8, 1, 24, 46, 21, 2, 26, 23, 10, 37, 9, 300, 400]\n",
            "\n",
            "First Quartile (Q1): 9.0\n",
            "Third Quartile (Q3): 32.5\n",
            "Interquartile Range (IQR): 23.50\n",
            "\n",
            "Lower Bound: -26.25\n",
            "Upper Bound: 67.75\n",
            "\n",
            "Detected Outliers:\n",
            "-> 300\n",
            "-> 400\n"
          ]
        }
      ]
    }
  ]
}