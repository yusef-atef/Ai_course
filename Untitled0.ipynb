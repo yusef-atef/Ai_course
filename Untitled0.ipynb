{
  "nbformat": 4,
  "nbformat_minor": 0,
  "metadata": {
    "colab": {
      "provenance": [],
      "toc_visible": true,
      "authorship_tag": "ABX9TyOT3vLSgAH6nC6vH1TNxyF9",
      "include_colab_link": true
    },
    "kernelspec": {
      "name": "python3",
      "display_name": "Python 3"
    },
    "language_info": {
      "name": "python"
    }
  },
  "cells": [
    {
      "cell_type": "markdown",
      "metadata": {
        "id": "view-in-github",
        "colab_type": "text"
      },
      "source": [
        "<a href=\"https://colab.research.google.com/github/yusef-atef/Ai_course/blob/main/Untitled0.ipynb\" target=\"_parent\"><img src=\"https://colab.research.google.com/assets/colab-badge.svg\" alt=\"Open In Colab\"/></a>"
      ]
    },
    {
      "cell_type": "code",
      "execution_count": null,
      "metadata": {
        "colab": {
          "base_uri": "https://localhost:8080/"
        },
        "id": "4pDF_9jMkmV3",
        "outputId": "e962c0ca-be5c-4183-98fe-11063f705602"
      },
      "outputs": [
        {
          "output_type": "execute_result",
          "data": {
            "text/plain": [
              "7"
            ]
          },
          "metadata": {},
          "execution_count": 12
        }
      ],
      "source": [
        "num1 = 3\n",
        "num2 = 4\n",
        "num3 = 5\n",
        "num1+num2"
      ]
    },
    {
      "cell_type": "code",
      "execution_count": null,
      "metadata": {
        "colab": {
          "base_uri": "https://localhost:8080/"
        },
        "outputId": "44e9ebdd-3b38-420c-ab5e-3a9c453aecad",
        "id": "lWpWG7eWmzbC"
      },
      "outputs": [
        {
          "output_type": "execute_result",
          "data": {
            "text/plain": [
              "2"
            ]
          },
          "metadata": {},
          "execution_count": 13
        }
      ],
      "source": [
        "num3-num1"
      ]
    },
    {
      "cell_type": "code",
      "execution_count": null,
      "metadata": {
        "colab": {
          "base_uri": "https://localhost:8080/"
        },
        "outputId": "2fec7d2b-b838-4344-8e47-9fca9c94ba33",
        "id": "CIKjMrU8m7AT"
      },
      "outputs": [
        {
          "output_type": "execute_result",
          "data": {
            "text/plain": [
              "17"
            ]
          },
          "metadata": {},
          "execution_count": 14
        }
      ],
      "source": [
        "num1*num2+num3"
      ]
    },
    {
      "cell_type": "code",
      "execution_count": null,
      "metadata": {
        "colab": {
          "base_uri": "https://localhost:8080/"
        },
        "outputId": "a8720f89-8eba-4d63-da23-a4519692cf5e",
        "id": "aQEsBye_nIaB"
      },
      "outputs": [
        {
          "output_type": "execute_result",
          "data": {
            "text/plain": [
              "27"
            ]
          },
          "metadata": {},
          "execution_count": 15
        }
      ],
      "source": [
        "num1*(num2+num3)"
      ]
    },
    {
      "cell_type": "code",
      "execution_count": null,
      "metadata": {
        "colab": {
          "base_uri": "https://localhost:8080/"
        },
        "outputId": "ab8f173e-a5c1-4753-f2f5-59e84648614b",
        "id": "a1zkRS_nnMcg"
      },
      "outputs": [
        {
          "output_type": "execute_result",
          "data": {
            "text/plain": [
              "1.6666666666666667"
            ]
          },
          "metadata": {},
          "execution_count": 16
        }
      ],
      "source": [
        "num3/num1"
      ]
    },
    {
      "cell_type": "code",
      "execution_count": null,
      "metadata": {
        "colab": {
          "base_uri": "https://localhost:8080/"
        },
        "outputId": "f6adc5ff-2133-4599-f9ec-05cce4829a0f",
        "id": "9SXEfFWZnP7Z"
      },
      "outputs": [
        {
          "output_type": "execute_result",
          "data": {
            "text/plain": [
              "1"
            ]
          },
          "metadata": {},
          "execution_count": 17
        }
      ],
      "source": [
        "num3//num1"
      ]
    },
    {
      "cell_type": "code",
      "execution_count": null,
      "metadata": {
        "colab": {
          "base_uri": "https://localhost:8080/"
        },
        "outputId": "d7022e88-488a-404d-bbb4-472ae10c06cb",
        "id": "PKkyTI3pnUUu"
      },
      "outputs": [
        {
          "output_type": "execute_result",
          "data": {
            "text/plain": [
              "2"
            ]
          },
          "metadata": {},
          "execution_count": 18
        }
      ],
      "source": [
        "num3%num1"
      ]
    },
    {
      "cell_type": "code",
      "execution_count": null,
      "metadata": {
        "id": "WoegJc9mnr2M"
      },
      "outputs": [],
      "source": [
        "num1 = float(num1)\n",
        "num2 = float(num2)\n",
        "num3 = float(num3)"
      ]
    },
    {
      "cell_type": "code",
      "execution_count": null,
      "metadata": {
        "colab": {
          "base_uri": "https://localhost:8080/"
        },
        "outputId": "214f78a7-2870-4ceb-9e31-04794bce2bfc",
        "id": "5wtG-RT0n45j"
      },
      "outputs": [
        {
          "output_type": "execute_result",
          "data": {
            "text/plain": [
              "7.0"
            ]
          },
          "metadata": {},
          "execution_count": 20
        }
      ],
      "source": [
        "num1+num2"
      ]
    },
    {
      "cell_type": "code",
      "execution_count": null,
      "metadata": {
        "colab": {
          "base_uri": "https://localhost:8080/"
        },
        "outputId": "a04c25f1-d2c4-430c-e1f2-37307c092d50",
        "id": "nEx-_Mvnn82z"
      },
      "outputs": [
        {
          "output_type": "execute_result",
          "data": {
            "text/plain": [
              "2.0"
            ]
          },
          "metadata": {},
          "execution_count": 21
        }
      ],
      "source": [
        "num3-num1"
      ]
    },
    {
      "cell_type": "code",
      "execution_count": null,
      "metadata": {
        "colab": {
          "base_uri": "https://localhost:8080/"
        },
        "outputId": "ff962abf-609c-4f4c-bc6b-670dae747987",
        "id": "JvMxoEU9oAX0"
      },
      "outputs": [
        {
          "output_type": "execute_result",
          "data": {
            "text/plain": [
              "17.0"
            ]
          },
          "metadata": {},
          "execution_count": 22
        }
      ],
      "source": [
        "num1*num2+num3"
      ]
    },
    {
      "cell_type": "code",
      "execution_count": null,
      "metadata": {
        "colab": {
          "base_uri": "https://localhost:8080/"
        },
        "outputId": "eba839f2-d11a-4971-cbca-3f625dbea453",
        "id": "BMVkrxVVoDJN"
      },
      "outputs": [
        {
          "output_type": "execute_result",
          "data": {
            "text/plain": [
              "27.0"
            ]
          },
          "metadata": {},
          "execution_count": 23
        }
      ],
      "source": [
        "num1*(num2+num3)"
      ]
    },
    {
      "cell_type": "code",
      "execution_count": null,
      "metadata": {
        "colab": {
          "base_uri": "https://localhost:8080/"
        },
        "outputId": "6f368fe0-a696-4873-cad7-134043b9a81a",
        "id": "Up5ODV-AoHGz"
      },
      "outputs": [
        {
          "output_type": "execute_result",
          "data": {
            "text/plain": [
              "1.6666666666666667"
            ]
          },
          "metadata": {},
          "execution_count": 24
        }
      ],
      "source": [
        "num3/num1"
      ]
    },
    {
      "cell_type": "code",
      "execution_count": null,
      "metadata": {
        "colab": {
          "base_uri": "https://localhost:8080/"
        },
        "outputId": "c9c6565a-3523-4b5a-bde1-50ae4dfd7102",
        "id": "gxXjGCA8oKFP"
      },
      "outputs": [
        {
          "output_type": "execute_result",
          "data": {
            "text/plain": [
              "1.0"
            ]
          },
          "metadata": {},
          "execution_count": 25
        }
      ],
      "source": [
        "num3//num1"
      ]
    },
    {
      "cell_type": "code",
      "execution_count": null,
      "metadata": {
        "colab": {
          "base_uri": "https://localhost:8080/"
        },
        "outputId": "077340e6-845a-40c2-96a9-351ba086bf1c",
        "id": "FLGAyrBdoNuj"
      },
      "outputs": [
        {
          "output_type": "execute_result",
          "data": {
            "text/plain": [
              "2.0"
            ]
          },
          "metadata": {},
          "execution_count": 26
        }
      ],
      "source": [
        "num3%num1"
      ]
    },
    {
      "cell_type": "code",
      "execution_count": null,
      "metadata": {
        "colab": {
          "base_uri": "https://localhost:8080/"
        },
        "outputId": "43ddd595-199e-41cc-91fd-71e948ba4d5f",
        "id": "rrVU_KeloRvh"
      },
      "outputs": [
        {
          "output_type": "execute_result",
          "data": {
            "text/plain": [
              "2.0"
            ]
          },
          "metadata": {},
          "execution_count": 27
        }
      ],
      "source": [
        "num3%num1"
      ]
    },
    {
      "cell_type": "code",
      "execution_count": null,
      "metadata": {
        "id": "3WJw7EnxoUZw"
      },
      "outputs": [],
      "source": [
        "x = 1\n",
        "y = 2\n",
        "z = 3\n",
        "g = 4"
      ]
    },
    {
      "cell_type": "code",
      "execution_count": null,
      "metadata": {
        "colab": {
          "base_uri": "https://localhost:8080/"
        },
        "outputId": "ec5ab64c-6d10-4a22-e0c2-8e00d253fe2e",
        "id": "MpBH5ZCtoXcH"
      },
      "outputs": [
        {
          "output_type": "execute_result",
          "data": {
            "text/plain": [
              "2.5"
            ]
          },
          "metadata": {},
          "execution_count": 29
        }
      ],
      "source": [
        "x+y*z/g"
      ]
    },
    {
      "cell_type": "code",
      "execution_count": null,
      "metadata": {
        "colab": {
          "base_uri": "https://localhost:8080/"
        },
        "outputId": "5393ab66-ffc6-48fa-b6a2-d93e9f21b1fd",
        "id": "x070wIbHoaPv"
      },
      "outputs": [
        {
          "output_type": "execute_result",
          "data": {
            "text/plain": [
              "8"
            ]
          },
          "metadata": {},
          "execution_count": 30
        }
      ],
      "source": [
        "y**z"
      ]
    },
    {
      "cell_type": "code",
      "source": [
        "str_a = \"Python \"\n",
        "str_b = \"is a \"\n",
        "str_c = \" times fun language\"\n",
        "num = 1000\n",
        "str_ab = str_a + str_b + str(num) + str_c\n",
        "print(str_ab)"
      ],
      "metadata": {
        "colab": {
          "base_uri": "https://localhost:8080/"
        },
        "id": "wAfTxIxZor7D",
        "outputId": "dfda6fac-d1c2-4b36-d09b-8bdca88ee50f"
      },
      "execution_count": null,
      "outputs": [
        {
          "output_type": "stream",
          "name": "stdout",
          "text": [
            "Python is a 1000 times fun language\n"
          ]
        }
      ]
    },
    {
      "cell_type": "code",
      "source": [
        "str_a10 = \"\"\n",
        "for i in range(10):\n",
        "  str_a10 = str_a10 + str_a\n",
        "print(str_a10)"
      ],
      "metadata": {
        "colab": {
          "base_uri": "https://localhost:8080/"
        },
        "id": "F_851vFrpVDd",
        "outputId": "14e7c37e-59ef-4477-c744-ffb81590a704"
      },
      "execution_count": null,
      "outputs": [
        {
          "output_type": "stream",
          "name": "stdout",
          "text": [
            "Python Python Python Python Python Python Python Python Python Python \n"
          ]
        }
      ]
    },
    {
      "cell_type": "code",
      "source": [
        "num_1 = -5\n",
        "num_2 = 3.2\n",
        "num_3 = 5.7\n",
        "num_4 = 625"
      ],
      "metadata": {
        "id": "d8RR38A3p1Pu"
      },
      "execution_count": null,
      "outputs": []
    },
    {
      "cell_type": "code",
      "source": [
        "abs(num_1)"
      ],
      "metadata": {
        "colab": {
          "base_uri": "https://localhost:8080/"
        },
        "id": "9_eRcyY6qEpV",
        "outputId": "8a856012-44bb-4b67-bea1-e950e57d8d1f"
      },
      "execution_count": null,
      "outputs": [
        {
          "output_type": "execute_result",
          "data": {
            "text/plain": [
              "5"
            ]
          },
          "metadata": {},
          "execution_count": 39
        }
      ]
    },
    {
      "cell_type": "code",
      "source": [
        "round(num_2)"
      ],
      "metadata": {
        "colab": {
          "base_uri": "https://localhost:8080/"
        },
        "id": "DcdhKxeWqTNI",
        "outputId": "01f496da-5809-476f-b14d-3775a54da3ab"
      },
      "execution_count": null,
      "outputs": [
        {
          "output_type": "execute_result",
          "data": {
            "text/plain": [
              "3"
            ]
          },
          "metadata": {},
          "execution_count": 41
        }
      ]
    },
    {
      "cell_type": "code",
      "source": [
        "int(num_3)"
      ],
      "metadata": {
        "colab": {
          "base_uri": "https://localhost:8080/"
        },
        "id": "2UmaXN1OqZdX",
        "outputId": "1378f5a2-5547-4011-9d55-ba9bd2f2d0d4"
      },
      "execution_count": null,
      "outputs": [
        {
          "output_type": "execute_result",
          "data": {
            "text/plain": [
              "5"
            ]
          },
          "metadata": {},
          "execution_count": 42
        }
      ]
    },
    {
      "cell_type": "code",
      "source": [
        "num_4 ** .5"
      ],
      "metadata": {
        "colab": {
          "base_uri": "https://localhost:8080/"
        },
        "id": "w6l-VlFtqi04",
        "outputId": "6c52f179-59ca-48ee-e603-b02149aae783"
      },
      "execution_count": null,
      "outputs": [
        {
          "output_type": "execute_result",
          "data": {
            "text/plain": [
              "25.0"
            ]
          },
          "metadata": {},
          "execution_count": 43
        }
      ]
    },
    {
      "cell_type": "code",
      "source": [
        "number1 = float(input(\"enter the first number: \"))\n",
        "number2 = float(input(\"enter the second number: \"))\n",
        "mult = number1 * number2\n",
        "print(mult)"
      ],
      "metadata": {
        "colab": {
          "base_uri": "https://localhost:8080/"
        },
        "id": "xUS6ipILq5fA",
        "outputId": "4c983504-b84b-4b9d-c61f-d0e4f30bd2b5"
      },
      "execution_count": null,
      "outputs": [
        {
          "output_type": "stream",
          "name": "stdout",
          "text": [
            "enter the first number: 5\n",
            "enter the second number: 2\n",
            "10.0\n"
          ]
        }
      ]
    },
    {
      "cell_type": "code",
      "source": [
        "test_num = float(input(\"Enter the number: \"))\n",
        "if test_num % 2 == 0:\n",
        "  print(str(test_num)+ \" is an even number\")\n",
        "else:\n",
        "  print(str(test_num)+ \" is an odd number\")"
      ],
      "metadata": {
        "colab": {
          "base_uri": "https://localhost:8080/"
        },
        "id": "64b_rhZzrlEG",
        "outputId": "6643631c-68cb-4bee-d89d-830f4c93211d"
      },
      "execution_count": null,
      "outputs": [
        {
          "output_type": "stream",
          "name": "stdout",
          "text": [
            "Enter the number: 15\n",
            "15.0 is an odd number\n"
          ]
        }
      ]
    },
    {
      "cell_type": "code",
      "source": [
        "student_score = float(input(\"Enter the studend score(1-100): \"))\n",
        "if student_score >= 50:\n",
        "  print(\"Pass\")\n",
        "else:\n",
        "  print(\"Faill\")\n"
      ],
      "metadata": {
        "colab": {
          "base_uri": "https://localhost:8080/"
        },
        "id": "mQV5WdtWsBw0",
        "outputId": "272dfdf3-733d-40e5-da15-1af59b645dcb"
      },
      "execution_count": null,
      "outputs": [
        {
          "output_type": "stream",
          "name": "stdout",
          "text": [
            "Enter the studend score(1-100): 40\n",
            "Faill\n"
          ]
        }
      ]
    },
    {
      "cell_type": "code",
      "source": [
        "number_1 = float(input(\"enter first number: \"))\n",
        "number_2 = float(input(\"enter second number: \"))\n",
        "number_3 = float(input(\"enter thired number: \"))\n",
        "test_list = sorted([number_1, number_2, number_3])\n",
        "print(\"the largest number is: \"+ str(test_list[2]))"
      ],
      "metadata": {
        "colab": {
          "base_uri": "https://localhost:8080/"
        },
        "id": "lUaIqFFwsZKi",
        "outputId": "264d767f-8be5-4c46-ee1c-10273b2c85ae"
      },
      "execution_count": null,
      "outputs": [
        {
          "output_type": "stream",
          "name": "stdout",
          "text": [
            "enter first number: 45\n",
            "enter second number: 25\n",
            "enter thired number: 2\n",
            "the largest number is: 45.0\n"
          ]
        }
      ]
    },
    {
      "cell_type": "code",
      "source": [
        "for i in range(1, 11, 1):\n",
        "  print(i, end=\" \")"
      ],
      "metadata": {
        "colab": {
          "base_uri": "https://localhost:8080/"
        },
        "id": "2Ko0C-6GtPtW",
        "outputId": "52296d64-7176-41d4-c062-6eb67f7737ca"
      },
      "execution_count": null,
      "outputs": [
        {
          "output_type": "stream",
          "name": "stdout",
          "text": [
            "1 2 3 4 5 6 7 8 9 10 "
          ]
        }
      ]
    },
    {
      "cell_type": "code",
      "source": [
        "score = float(input(\"Enter the score: \"))\n",
        "if score<60:\n",
        "  print(\"F\")\n",
        "elif score<=69:\n",
        "  print(\"D\")\n",
        "elif score<=79:\n",
        "  print(\"C\")\n",
        "elif score<=89:\n",
        "  print(\"B\")\n",
        "else:\n",
        "  print(\"A\")"
      ],
      "metadata": {
        "colab": {
          "base_uri": "https://localhost:8080/"
        },
        "id": "K0gu2Quntj8q",
        "outputId": "b444f36c-e859-4859-db33-7806170cd85d"
      },
      "execution_count": null,
      "outputs": [
        {
          "output_type": "stream",
          "name": "stdout",
          "text": [
            "Enter the score: 56\n",
            "F\n"
          ]
        }
      ]
    },
    {
      "cell_type": "code",
      "source": [
        "mult_table = int(input(\"Enter the nuber: \"))\n",
        "for i in range(1,11):\n",
        "  print(i*mult_table, end=\" \")"
      ],
      "metadata": {
        "colab": {
          "base_uri": "https://localhost:8080/"
        },
        "id": "oYXwGhZKuY-Q",
        "outputId": "a3ed594c-42eb-4924-81cd-a894446a6f7c"
      },
      "execution_count": null,
      "outputs": [
        {
          "output_type": "stream",
          "name": "stdout",
          "text": [
            "Enter the nuber: 4\n",
            "4 8 12 16 20 24 28 32 36 40 "
          ]
        }
      ]
    },
    {
      "cell_type": "code",
      "source": [
        "sum = 0\n",
        "for i in range(1,51,2):\n",
        "  sum += i\n",
        "print(sum)"
      ],
      "metadata": {
        "colab": {
          "base_uri": "https://localhost:8080/"
        },
        "id": "BpZ5y1pDuxCl",
        "outputId": "de58da30-e344-4d3e-fe75-7468793f039a"
      },
      "execution_count": null,
      "outputs": [
        {
          "output_type": "stream",
          "name": "stdout",
          "text": [
            "625\n"
          ]
        }
      ]
    },
    {
      "cell_type": "code",
      "source": [
        "fact_num = int(input(\"Enter the Number to get the factorial: \"))\n",
        "fact = 1\n",
        "while fact_num > 0:\n",
        "  fact *= fact_num\n",
        "  fact_num -= 1\n",
        "print(fact)"
      ],
      "metadata": {
        "colab": {
          "base_uri": "https://localhost:8080/"
        },
        "id": "pSDFepotvE1T",
        "outputId": "f5401d03-a2dc-4917-fd3f-afdda8bdb909"
      },
      "execution_count": null,
      "outputs": [
        {
          "output_type": "stream",
          "name": "stdout",
          "text": [
            "Enter the Number to get the factorial: 3\n",
            "6\n"
          ]
        }
      ]
    },
    {
      "cell_type": "markdown",
      "source": [],
      "metadata": {
        "id": "oqlniA24qb2u"
      }
    }
  ]
}